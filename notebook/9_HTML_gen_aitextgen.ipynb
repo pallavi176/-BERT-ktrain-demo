{
  "nbformat": 4,
  "nbformat_minor": 0,
  "metadata": {
    "colab": {
      "provenance": [],
      "collapsed_sections": []
    },
    "kernelspec": {
      "name": "python3",
      "display_name": "Python 3"
    },
    "accelerator": "GPU",
    "widgets": {
      "application/vnd.jupyter.widget-state+json": {
        "ff19c78a32b24c39a9fae40343b7f132": {
          "model_module": "@jupyter-widgets/controls",
          "model_name": "HBoxModel",
          "state": {
            "_view_name": "HBoxView",
            "_dom_classes": [],
            "_model_name": "HBoxModel",
            "_view_module": "@jupyter-widgets/controls",
            "_model_module_version": "1.5.0",
            "_view_count": null,
            "_view_module_version": "1.5.0",
            "box_style": "",
            "layout": "IPY_MODEL_646ee9d5da6449ee9b73c15d055f0b73",
            "_model_module": "@jupyter-widgets/controls",
            "children": [
              "IPY_MODEL_1de2ca3733204dee850aa2ce7e8ed64e",
              "IPY_MODEL_8ceb3811b57f4087b8a3447cc457c135"
            ]
          },
          "model_module_version": "1.5.0"
        },
        "646ee9d5da6449ee9b73c15d055f0b73": {
          "model_module": "@jupyter-widgets/base",
          "model_name": "LayoutModel",
          "state": {
            "_view_name": "LayoutView",
            "grid_template_rows": null,
            "right": null,
            "justify_content": null,
            "_view_module": "@jupyter-widgets/base",
            "overflow": null,
            "_model_module_version": "1.2.0",
            "_view_count": null,
            "flex_flow": "row wrap",
            "width": "100%",
            "min_width": null,
            "border": null,
            "align_items": null,
            "bottom": null,
            "_model_module": "@jupyter-widgets/base",
            "top": null,
            "grid_column": null,
            "overflow_y": null,
            "overflow_x": null,
            "grid_auto_flow": null,
            "grid_area": null,
            "grid_template_columns": null,
            "flex": null,
            "_model_name": "LayoutModel",
            "justify_items": null,
            "grid_row": null,
            "max_height": null,
            "align_content": null,
            "visibility": null,
            "align_self": null,
            "height": null,
            "min_height": null,
            "padding": null,
            "grid_auto_rows": null,
            "grid_gap": null,
            "max_width": null,
            "order": null,
            "_view_module_version": "1.2.0",
            "grid_template_areas": null,
            "object_position": null,
            "object_fit": null,
            "grid_auto_columns": null,
            "margin": null,
            "display": "inline-flex",
            "left": null
          },
          "model_module_version": "1.2.0"
        },
        "1de2ca3733204dee850aa2ce7e8ed64e": {
          "model_module": "@jupyter-widgets/controls",
          "model_name": "FloatProgressModel",
          "state": {
            "_view_name": "ProgressView",
            "style": "IPY_MODEL_25d7d441e1ff4119908a3c8c9ba998a5",
            "_dom_classes": [],
            "description": "100%",
            "_model_name": "FloatProgressModel",
            "bar_style": "success",
            "max": 771,
            "_view_module": "@jupyter-widgets/controls",
            "_model_module_version": "1.5.0",
            "value": 771,
            "_view_count": null,
            "_view_module_version": "1.5.0",
            "orientation": "horizontal",
            "min": 0,
            "description_tooltip": null,
            "_model_module": "@jupyter-widgets/controls",
            "layout": "IPY_MODEL_28a86ff9618246e59060c00261a80508"
          },
          "model_module_version": "1.5.0"
        },
        "8ceb3811b57f4087b8a3447cc457c135": {
          "model_module": "@jupyter-widgets/controls",
          "model_name": "HTMLModel",
          "state": {
            "_view_name": "HTMLView",
            "style": "IPY_MODEL_26849e4481574e6ca1989746ab2de7aa",
            "_dom_classes": [],
            "description": "",
            "_model_name": "HTMLModel",
            "placeholder": "​",
            "_view_module": "@jupyter-widgets/controls",
            "_model_module_version": "1.5.0",
            "value": " 771/771 [03:03&lt;00:00,  4.20it/s]",
            "_view_count": null,
            "_view_module_version": "1.5.0",
            "description_tooltip": null,
            "_model_module": "@jupyter-widgets/controls",
            "layout": "IPY_MODEL_42a75bbc387b42e5936b802c1dddcedd"
          },
          "model_module_version": "1.5.0"
        },
        "25d7d441e1ff4119908a3c8c9ba998a5": {
          "model_module": "@jupyter-widgets/controls",
          "model_name": "ProgressStyleModel",
          "state": {
            "_view_name": "StyleView",
            "_model_name": "ProgressStyleModel",
            "description_width": "initial",
            "_view_module": "@jupyter-widgets/base",
            "_model_module_version": "1.5.0",
            "_view_count": null,
            "_view_module_version": "1.2.0",
            "bar_color": null,
            "_model_module": "@jupyter-widgets/controls"
          },
          "model_module_version": "1.5.0"
        },
        "28a86ff9618246e59060c00261a80508": {
          "model_module": "@jupyter-widgets/base",
          "model_name": "LayoutModel",
          "state": {
            "_view_name": "LayoutView",
            "grid_template_rows": null,
            "right": null,
            "justify_content": null,
            "_view_module": "@jupyter-widgets/base",
            "overflow": null,
            "_model_module_version": "1.2.0",
            "_view_count": null,
            "flex_flow": null,
            "width": null,
            "min_width": null,
            "border": null,
            "align_items": null,
            "bottom": null,
            "_model_module": "@jupyter-widgets/base",
            "top": null,
            "grid_column": null,
            "overflow_y": null,
            "overflow_x": null,
            "grid_auto_flow": null,
            "grid_area": null,
            "grid_template_columns": null,
            "flex": "2",
            "_model_name": "LayoutModel",
            "justify_items": null,
            "grid_row": null,
            "max_height": null,
            "align_content": null,
            "visibility": null,
            "align_self": null,
            "height": null,
            "min_height": null,
            "padding": null,
            "grid_auto_rows": null,
            "grid_gap": null,
            "max_width": null,
            "order": null,
            "_view_module_version": "1.2.0",
            "grid_template_areas": null,
            "object_position": null,
            "object_fit": null,
            "grid_auto_columns": null,
            "margin": null,
            "display": null,
            "left": null
          },
          "model_module_version": "1.2.0"
        },
        "26849e4481574e6ca1989746ab2de7aa": {
          "model_module": "@jupyter-widgets/controls",
          "model_name": "DescriptionStyleModel",
          "state": {
            "_view_name": "StyleView",
            "_model_name": "DescriptionStyleModel",
            "description_width": "",
            "_view_module": "@jupyter-widgets/base",
            "_model_module_version": "1.5.0",
            "_view_count": null,
            "_view_module_version": "1.2.0",
            "_model_module": "@jupyter-widgets/controls"
          },
          "model_module_version": "1.5.0"
        },
        "42a75bbc387b42e5936b802c1dddcedd": {
          "model_module": "@jupyter-widgets/base",
          "model_name": "LayoutModel",
          "state": {
            "_view_name": "LayoutView",
            "grid_template_rows": null,
            "right": null,
            "justify_content": null,
            "_view_module": "@jupyter-widgets/base",
            "overflow": null,
            "_model_module_version": "1.2.0",
            "_view_count": null,
            "flex_flow": null,
            "width": null,
            "min_width": null,
            "border": null,
            "align_items": null,
            "bottom": null,
            "_model_module": "@jupyter-widgets/base",
            "top": null,
            "grid_column": null,
            "overflow_y": null,
            "overflow_x": null,
            "grid_auto_flow": null,
            "grid_area": null,
            "grid_template_columns": null,
            "flex": null,
            "_model_name": "LayoutModel",
            "justify_items": null,
            "grid_row": null,
            "max_height": null,
            "align_content": null,
            "visibility": null,
            "align_self": null,
            "height": null,
            "min_height": null,
            "padding": null,
            "grid_auto_rows": null,
            "grid_gap": null,
            "max_width": null,
            "order": null,
            "_view_module_version": "1.2.0",
            "grid_template_areas": null,
            "object_position": null,
            "object_fit": null,
            "grid_auto_columns": null,
            "margin": null,
            "display": null,
            "left": null
          },
          "model_module_version": "1.2.0"
        },
        "50860a410fc4457f8135d8dc1fe6f2d7": {
          "model_module": "@jupyter-widgets/controls",
          "model_name": "HBoxModel",
          "state": {
            "_view_name": "HBoxView",
            "_dom_classes": [],
            "_model_name": "HBoxModel",
            "_view_module": "@jupyter-widgets/controls",
            "_model_module_version": "1.5.0",
            "_view_count": null,
            "_view_module_version": "1.5.0",
            "box_style": "",
            "layout": "IPY_MODEL_928382d33c6f46be8a715935802439c8",
            "_model_module": "@jupyter-widgets/controls",
            "children": [
              "IPY_MODEL_57bc5acf2d4a45489afd2b6071a7990b",
              "IPY_MODEL_9047013c64dc4f4197e2747f3669ca0f"
            ]
          },
          "model_module_version": "1.5.0"
        },
        "928382d33c6f46be8a715935802439c8": {
          "model_module": "@jupyter-widgets/base",
          "model_name": "LayoutModel",
          "state": {
            "_view_name": "LayoutView",
            "grid_template_rows": null,
            "right": null,
            "justify_content": null,
            "_view_module": "@jupyter-widgets/base",
            "overflow": null,
            "_model_module_version": "1.2.0",
            "_view_count": null,
            "flex_flow": "row wrap",
            "width": "100%",
            "min_width": null,
            "border": null,
            "align_items": null,
            "bottom": null,
            "_model_module": "@jupyter-widgets/base",
            "top": null,
            "grid_column": null,
            "overflow_y": null,
            "overflow_x": null,
            "grid_auto_flow": null,
            "grid_area": null,
            "grid_template_columns": null,
            "flex": null,
            "_model_name": "LayoutModel",
            "justify_items": null,
            "grid_row": null,
            "max_height": null,
            "align_content": null,
            "visibility": null,
            "align_self": null,
            "height": null,
            "min_height": null,
            "padding": null,
            "grid_auto_rows": null,
            "grid_gap": null,
            "max_width": null,
            "order": null,
            "_view_module_version": "1.2.0",
            "grid_template_areas": null,
            "object_position": null,
            "object_fit": null,
            "grid_auto_columns": null,
            "margin": null,
            "display": "inline-flex",
            "left": null
          },
          "model_module_version": "1.2.0"
        },
        "57bc5acf2d4a45489afd2b6071a7990b": {
          "model_module": "@jupyter-widgets/controls",
          "model_name": "FloatProgressModel",
          "state": {
            "_view_name": "ProgressView",
            "style": "IPY_MODEL_7d15798a86ca4d9c9b4313bec0c2e10d",
            "_dom_classes": [],
            "description": "Loss: 0.040 — Avg: 0.038 — GPU Mem: 7291 MB: 100%",
            "_model_name": "FloatProgressModel",
            "bar_style": "",
            "max": 5000,
            "_view_module": "@jupyter-widgets/controls",
            "_model_module_version": "1.5.0",
            "value": 5000,
            "_view_count": null,
            "_view_module_version": "1.5.0",
            "orientation": "horizontal",
            "min": 0,
            "description_tooltip": null,
            "_model_module": "@jupyter-widgets/controls",
            "layout": "IPY_MODEL_fbd9d8c2315846c7b8e7797ec42f3b34"
          },
          "model_module_version": "1.5.0"
        },
        "9047013c64dc4f4197e2747f3669ca0f": {
          "model_module": "@jupyter-widgets/controls",
          "model_name": "HTMLModel",
          "state": {
            "_view_name": "HTMLView",
            "style": "IPY_MODEL_9020e24492104bb3a3e8ddf750764e8f",
            "_dom_classes": [],
            "description": "",
            "_model_name": "HTMLModel",
            "placeholder": "​",
            "_view_module": "@jupyter-widgets/controls",
            "_model_module_version": "1.5.0",
            "value": " 5000/5000 [37:10&lt;00:00,  2.24it/s]",
            "_view_count": null,
            "_view_module_version": "1.5.0",
            "description_tooltip": null,
            "_model_module": "@jupyter-widgets/controls",
            "layout": "IPY_MODEL_7ae07a6e3e7945798a1a23b6f6f644ff"
          },
          "model_module_version": "1.5.0"
        },
        "7d15798a86ca4d9c9b4313bec0c2e10d": {
          "model_module": "@jupyter-widgets/controls",
          "model_name": "ProgressStyleModel",
          "state": {
            "_view_name": "StyleView",
            "_model_name": "ProgressStyleModel",
            "description_width": "initial",
            "_view_module": "@jupyter-widgets/base",
            "_model_module_version": "1.5.0",
            "_view_count": null,
            "_view_module_version": "1.2.0",
            "bar_color": null,
            "_model_module": "@jupyter-widgets/controls"
          },
          "model_module_version": "1.5.0"
        },
        "fbd9d8c2315846c7b8e7797ec42f3b34": {
          "model_module": "@jupyter-widgets/base",
          "model_name": "LayoutModel",
          "state": {
            "_view_name": "LayoutView",
            "grid_template_rows": null,
            "right": null,
            "justify_content": null,
            "_view_module": "@jupyter-widgets/base",
            "overflow": null,
            "_model_module_version": "1.2.0",
            "_view_count": null,
            "flex_flow": null,
            "width": null,
            "min_width": null,
            "border": null,
            "align_items": null,
            "bottom": null,
            "_model_module": "@jupyter-widgets/base",
            "top": null,
            "grid_column": null,
            "overflow_y": null,
            "overflow_x": null,
            "grid_auto_flow": null,
            "grid_area": null,
            "grid_template_columns": null,
            "flex": "2",
            "_model_name": "LayoutModel",
            "justify_items": null,
            "grid_row": null,
            "max_height": null,
            "align_content": null,
            "visibility": null,
            "align_self": null,
            "height": null,
            "min_height": null,
            "padding": null,
            "grid_auto_rows": null,
            "grid_gap": null,
            "max_width": null,
            "order": null,
            "_view_module_version": "1.2.0",
            "grid_template_areas": null,
            "object_position": null,
            "object_fit": null,
            "grid_auto_columns": null,
            "margin": null,
            "display": null,
            "left": null
          },
          "model_module_version": "1.2.0"
        },
        "9020e24492104bb3a3e8ddf750764e8f": {
          "model_module": "@jupyter-widgets/controls",
          "model_name": "DescriptionStyleModel",
          "state": {
            "_view_name": "StyleView",
            "_model_name": "DescriptionStyleModel",
            "description_width": "",
            "_view_module": "@jupyter-widgets/base",
            "_model_module_version": "1.5.0",
            "_view_count": null,
            "_view_module_version": "1.2.0",
            "_model_module": "@jupyter-widgets/controls"
          },
          "model_module_version": "1.5.0"
        },
        "7ae07a6e3e7945798a1a23b6f6f644ff": {
          "model_module": "@jupyter-widgets/base",
          "model_name": "LayoutModel",
          "state": {
            "_view_name": "LayoutView",
            "grid_template_rows": null,
            "right": null,
            "justify_content": null,
            "_view_module": "@jupyter-widgets/base",
            "overflow": null,
            "_model_module_version": "1.2.0",
            "_view_count": null,
            "flex_flow": null,
            "width": null,
            "min_width": null,
            "border": null,
            "align_items": null,
            "bottom": null,
            "_model_module": "@jupyter-widgets/base",
            "top": null,
            "grid_column": null,
            "overflow_y": null,
            "overflow_x": null,
            "grid_auto_flow": null,
            "grid_area": null,
            "grid_template_columns": null,
            "flex": null,
            "_model_name": "LayoutModel",
            "justify_items": null,
            "grid_row": null,
            "max_height": null,
            "align_content": null,
            "visibility": null,
            "align_self": null,
            "height": null,
            "min_height": null,
            "padding": null,
            "grid_auto_rows": null,
            "grid_gap": null,
            "max_width": null,
            "order": null,
            "_view_module_version": "1.2.0",
            "grid_template_areas": null,
            "object_position": null,
            "object_fit": null,
            "grid_auto_columns": null,
            "margin": null,
            "display": null,
            "left": null
          },
          "model_module_version": "1.2.0"
        }
      }
    }
  },
  "cells": [
    {
      "cell_type": "code",
      "metadata": {
        "id": "S3u1sGFvSJRp"
      },
      "source": [
        "import os\n",
        "ROOT = \"/content/drive/MyDrive/NLPFinal/FLive\"\n",
        "os.chdir(ROOT)\n",
        "\n",
        "assert os.getcwd(), ROOT"
      ],
      "execution_count": null,
      "outputs": []
    },
    {
      "cell_type": "code",
      "metadata": {
        "id": "QvwKP0dN1nL7"
      },
      "source": [
        "try:\n",
        "    from aitextgen import aitextgen\n",
        "except:\n",
        "    print(\"* installing aitextgen...\")\n",
        "    !pip install -q aitextgen\n",
        "    print(\"* installation completed!\")\n",
        "    from aitextgen import aitextgen\n"
      ],
      "execution_count": null,
      "outputs": []
    },
    {
      "cell_type": "markdown",
      "metadata": {
        "id": "eHqzNCWH2F77"
      },
      "source": [
        "## Load GPT-2"
      ]
    },
    {
      "cell_type": "code",
      "metadata": {
        "id": "M_jkJhH22AJH"
      },
      "source": [
        "ai = aitextgen(tf_gpt2=\"124M\", to_gpu=True) # small model of size 500MB"
      ],
      "execution_count": null,
      "outputs": []
    },
    {
      "cell_type": "code",
      "metadata": {
        "id": "ZQt20RSU2UCl"
      },
      "source": [
        "# get html content from wikipedia source code"
      ],
      "execution_count": null,
      "outputs": []
    },
    {
      "cell_type": "code",
      "metadata": {
        "id": "N-apLJtB2_EU"
      },
      "source": [
        "html_file = \"input_html.txt\""
      ],
      "execution_count": null,
      "outputs": []
    },
    {
      "cell_type": "code",
      "metadata": {
        "id": "AmXOSzwn3XsO"
      },
      "source": [
        "ai.train??"
      ],
      "execution_count": null,
      "outputs": []
    },
    {
      "cell_type": "code",
      "metadata": {
        "colab": {
          "base_uri": "https://localhost:8080/",
          "height": 1000,
          "referenced_widgets": [
            "ff19c78a32b24c39a9fae40343b7f132",
            "646ee9d5da6449ee9b73c15d055f0b73",
            "1de2ca3733204dee850aa2ce7e8ed64e",
            "8ceb3811b57f4087b8a3447cc457c135",
            "25d7d441e1ff4119908a3c8c9ba998a5",
            "28a86ff9618246e59060c00261a80508",
            "26849e4481574e6ca1989746ab2de7aa",
            "42a75bbc387b42e5936b802c1dddcedd",
            "50860a410fc4457f8135d8dc1fe6f2d7",
            "928382d33c6f46be8a715935802439c8",
            "57bc5acf2d4a45489afd2b6071a7990b",
            "9047013c64dc4f4197e2747f3669ca0f",
            "7d15798a86ca4d9c9b4313bec0c2e10d",
            "fbd9d8c2315846c7b8e7797ec42f3b34",
            "9020e24492104bb3a3e8ddf750764e8f",
            "7ae07a6e3e7945798a1a23b6f6f644ff"
          ]
        },
        "id": "EiB_ynKU3KKu",
        "outputId": "c90d06b9-16c2-4c01-e661-d9e15d7393d0"
      },
      "source": [
        "ai.train(train_data=html_file,\n",
        "         line_by_line=False,\n",
        "         from_cache=False,\n",
        "         num_steps=5000,\n",
        "         generate_every=500,\n",
        "         save_every=1000,\n",
        "         learning_rate=1e-4,\n",
        "         batch_size=1, \n",
        "         )"
      ],
      "execution_count": null,
      "outputs": [
        {
          "output_type": "display_data",
          "data": {
            "application/vnd.jupyter.widget-view+json": {
              "model_id": "ff19c78a32b24c39a9fae40343b7f132",
              "version_minor": 0,
              "version_major": 2
            },
            "text/plain": [
              "HBox(children=(FloatProgress(value=0.0, layout=Layout(flex='2'), max=771.0), HTML(value='')), layout=Layout(di…"
            ]
          },
          "metadata": {
            "tags": []
          }
        },
        {
          "output_type": "stream",
          "text": [
            "/usr/local/lib/python3.6/dist-packages/pytorch_lightning/utilities/distributed.py:49: UserWarning: You have set progress_bar_refresh_rate < 20 on Google Colab. This may crash. Consider using progress_bar_refresh_rate >= 20 in Trainer.\n",
            "  warnings.warn(*args, **kwargs)\n",
            "GPU available: True, used: True\n",
            "TPU available: None, using: 0 TPU cores\n",
            "LOCAL_RANK: 0 - CUDA_VISIBLE_DEVICES: [0]\n"
          ],
          "name": "stderr"
        },
        {
          "output_type": "stream",
          "text": [
            "\n"
          ],
          "name": "stdout"
        },
        {
          "output_type": "display_data",
          "data": {
            "application/vnd.jupyter.widget-view+json": {
              "model_id": "50860a410fc4457f8135d8dc1fe6f2d7",
              "version_minor": 0,
              "version_major": 2
            },
            "text/plain": [
              "HBox(children=(FloatProgress(value=0.0, layout=Layout(flex='2'), max=5000.0), HTML(value='')), layout=Layout(d…"
            ]
          },
          "metadata": {
            "tags": []
          }
        },
        {
          "output_type": "stream",
          "text": [
            "\u001b[1m500 steps reached: generating sample texts.\u001b[0m\n",
            "==========\n",
            "A report by the Federation of Teachers of America and the National Federation of Teachers of the United States of America has found that more than half a million working-age people in the United States are working-age.\n",
            "The report found that more than half a million people in the United States are working-age, and that there is a rising importance of disbasing and simplifying the terms \"young\" and \"old\" in these terms.\n",
            "\"The increase in the number of non-white working-ages in the United States has exceeded the very small number of people working-age,\" explained the report's authors, \"including less than half a million working-age people in the United States.\"\n",
            "\"The rising importance of the underrepresentation of this class of people in the United States has been greatly exceeded in the last five years, and the government has dramatically reduced its funding for social programs for the working-age population,\" explained the report's authors.\n",
            "\"Despite the enormous increase in the number of non-white working-age people in the United States, the opposite is true,\" explained the report's author, \"Joseph W. W. Doering, a former assistant secretary of the Department of Management and Research, and now an assistant professor of psychology\n",
            "==========\n",
            "\u001b[1m1,000 steps reached: saving model to /trained_model\u001b[0m\n",
            "\u001b[1m1,000 steps reached: generating sample texts.\u001b[0m\n",
            "==========\n",
            "\n",
            "<div id=\"mw-head-navbar\" class=\"navbar plainlinks mw-head\">\n",
            "<!-- \n",
            "NewPPPP limit report\n",
            "Parsed by mw\n",
            "Cached time report (%,ms,calls, etc.)\n",
            "Parsed by mw-parser-output.cs1_parser-output.cs1_parser-output.cs1 scope=\"row\" class=\"navbar plainlinks mw-parser-output.cs1 scope-spacing=\"0\" style=\"padding:0.4em 2em\"><ul><li><a href=\"/wiki/Tokenization_(lexical_analysis)\" class=\"mw-redirect\" title=\"Tokenization (lexical analysis)\">Tokenization</a></li><li><a href=\"/wiki/Decision_tree\" title=\"Decision tree\">Decision tree</a></li><li><a href=\"/wiki/Pachinko_identifier\" title=\"Pachinko identification\">Pachinko identification</a></li><li><a href=\"/wiki/Shallow_parsing\" title=\"Shallow parsing\">SHRING</a></li><li><a href=\"/wiki\n",
            "==========\n",
            "\u001b[1m1,500 steps reached: generating sample texts.\u001b[0m\n",
            "==========\n",
            " <i><a href=\"/wiki/Parsing\" title=\"Parsing\">Parsing</a></i>\n",
            "<div id=\"cite_note-16\" class=\"mw-cite-backlink\"><b><a href=\"#cite_ref-16\">^</a></b></span> <span class=\"reference-text\"><link rel=\"mw-deduplicated-inline-style\" href=\"mw-data:TemplateStyles:r999302996\"/><cite id=\"CITEREFYiTian2012\" class=\"citation cs2\">Yi, Chucai; Tian, Yingli (2012), \"Assistive Text Reading from Complex Background for Blind Persons\", <i>Camera-Based Document Analysis and Recognition</i>, Springer Berlin Heidelberg, pp.&#160;15–28, <a href=\"/wiki/CiteSeerX\" title=\"CiteSeerX\">CiteSeerX</a>&#32;<span class=\"cs1-lock-free\" title=\"Freely accessible\"><a rel=\"nofollow\" class=\"external text\" href=\"//citeseer\n",
            "==========\n",
            "\u001b[1m2,000 steps reached: saving model to /trained_model\u001b[0m\n",
            "\u001b[1m2,000 steps reached: generating sample texts.\u001b[0m\n",
            "==========\n",
            "%d8%A8%d8%B%d9%85%8C_%d8%A9%d8%B%d8%A7%d8%B%d8%B9%d8%9_%d8%B%d8%A8%d8%B%d8%A9%d8%B%d8%A8%d8%B%d8%B%d8%B9%d8%B8%d8%B\" title=\"Բնական լդեզվի մշակում – Armenian\" lang=\"ar\" hreflang=\"ar\" class=\"interlanguage-link-target\">Հայերեն</a></li><li class=\"interlanguage-link interwiki-az\"><a href=\"https://az.wikipedia.org/wiki/T%C9%99bii_dilin_emal%C4%B1\" title=\"Təbii dilin\n",
            "==========\n",
            "\u001b[1m2,500 steps reached: generating sample texts.\u001b[0m\n",
            "==========\n",
            "\" title=\"Natural language processing\">Natural language processing</a> (NLU)</dt>\n",
            "<dd>Proceedings of the IEEE</dd>\n",
            "</dt>\n",
            "<dd>The Department of General Linguistics, Department of General Linguistics, and the <a href=\"/wiki/Computer-assisted_translation\" title=\"Computer-assisted translation\">Computer-assisted</a> system of NLP are:</dt>\n",
            "<dd>The creation and use of language-based</dd>\n",
            "<dt>The creation and use of language-based NLP systems are:</dt>\n",
            "<dd>The creation and use of NLP systems are subject to significant changes in natural language, technology, and the local language, for example in the field of <a href=\"/wiki/Natural_language_understanding\" class=\"mw-redirect\" title=\"Natural language understanding\">natural language understanding</a>, due in part to work at IBM Research.  These systems were able to provide a generic response to a wide variety of natural language questions, for example in a sentence such as \"What is the capital of Canada?\").  However, they were not able to fulfill the expectations of real progress made by the time\n",
            "==========\n",
            "\u001b[1m3,000 steps reached: saving model to /trained_model\u001b[0m\n",
            "\u001b[1m3,000 steps reached: generating sample texts.\u001b[0m\n",
            "==========\n",
            "\"><li class=\"toclevel-2 tocsection-5\"><a href=\"#Sister_analysis\"><span class=\"tocnumber\">5</span> <span class=\"toctext\">Sister analysis</span></a> (NER)</li>\n",
            "<li class=\"toclevel-2 tocsection-6\"><a href=\"#Relational_semantics_(semantics_of_individual_sentences)\"><span class=\"tocnumber\">6</span> <span class=\"toctext\">Relational semantics (semantics of individual sentences)</span></a> (NER)</li>\n",
            "<li class=\"toclevel-2 tocsection-7\"><a href=\"#Discourse_(semantics_beyond_individual_sentences)\"><span class=\"tocnumber\">7</span> <span class=\"toctext\">Discourse (semantics beyond individual sentences)</span></a></li>\n",
            "<li class=\"toclevel-2 tocsection-8\"><a href=\"#Higher-level_NLP_applications\"><span class=\"tocnumber\">8</span> <span class=\"toctext\">Higher-level NLP applications</span></a></li>\n",
            "</ul>\n",
            "==========\n",
            "\u001b[1m3,500 steps reached: generating sample texts.\u001b[0m\n",
            "==========\n",
            " <a href=\"/wiki/Doi_(identifier)\" class=\"mw-redirect\" title=\"Doi (identifier)\">doi</a>:<a rel=\"nofollow\" class=\"external text\" href=\"https://doi.org/10.1007%2F978-3-030-16800-1\">10.1007/978-3-030-16800-1</a>. <a href=\"/wiki/ISBN_(identifier)\" class=\"mw-redirect\" title=\"ISBN (identifier)\">ISBN</a>&#160;<a href=\"/wiki/Special:BookSources/978-3-030-16799-8\" title=\"Special:BookSources/978-3-030-16799-8\">978-3-030-16799-8</a>.</li>\n",
            "<li><b>978-1848219212</b>.</cite><span title=\"ctx_ver=Z39.88-2004&amp;rft_val_fmt=info%3Aofi%2Ffmt%3Akev%3Amtx%3Abook&amp;rft.genre\n",
            "==========\n",
            "\u001b[1m4,000 steps reached: saving model to /trained_model\u001b[0m\n",
            "\u001b[1m4,000 steps reached: generating sample texts.\u001b[0m\n",
            "==========\n",
            "The following is a list of some of the most commonly researched tasks in natural language processing. Some of these tasks have direct real-world applications, while others more commonly serve as subtasks that are used to aid in solving larger tasks.\n",
            "</p><p>Though natural language processing tasks are closely intertwined, they can be subdivided into categories for convenience. A coarse division is given below.\n",
            "</p>\n",
            "</div>\n",
            "<h3><span class=\"mw-headline\" id=\"Text_to_speech_tagging\">Text to speech tagging</span><span class=\"mw-editsection\"><span class=\"mw-editsection-bracket\">[</span><a href=\"/w/index.php?title=Natural_language_processing&amp;action=edit&amp;section=9\" title=\"Edit section: Text to speech tagging\">edit</a><span class=\"mw-editsection-bracket\">]</span></span></h3>\n",
            "<dl><dt><a href=\"/wiki/Automatic_summarization\" title=\"Automatic summarization\">Automatic summarization</a> (text summarization)</dt>\n",
            "<dd>Produce a readable\n",
            "==========\n",
            "\u001b[1m4,500 steps reached: generating sample texts.\u001b[0m\n",
            "==========\n",
            "mw-editsection-bracket\">]</span></span></h2>\n",
            "<div class=\"reflist columns references-column-width\" style=\"column-width: 30em; list-style=\"column-width: 30em;\">\n",
            "<ol class=\"references\">\n",
            "<li id=\"cite_note-Kongthon-1\"><span class=\"mw-cite-backlink\"><b><a href=\"#cite_ref-Kongthon_1-0\">^</a></b></span> <span class=\"reference-text\"><style data-mw-deduplicate=\"TemplateStyles:r999302996\">.mw-parser-output cite.ccm.nih.gov%2Fpmc%2Farticles%2FPMC40721%23id-name%3DPMC&amp;rft_id=info%3Apmid%2F7479812&amp;rft_id=info%3Adoi%2F10.1145%2F1643823.1643908\">10.1145/1643823.1643908</a>.</c\n",
            "==========\n",
            "\u001b[1m5,000 steps reached: saving model to /trained_model\u001b[0m\n",
            "\u001b[1m5,000 steps reached: generating sample texts.\u001b[0m\n",
            "==========\n",
            "</p>\n",
            "<h3><span class=\"mw-headline\" id=\"Syntactic_analysis\">Syntactic analysis</span><span class=\"mw-editsection\"><span class=\"mw-editsection-bracket\">[</span><a href=\"/w/index.php?title=Natural_language_processing&amp;action=edit&amp;section=11\" title=\"Edit section: Syntactic analysis\">edit</a><span class=\"mw-editsection-bracket\">]</span></span></h3>\n",
            "<dl><dt><a href=\"/wiki/Grammar_induction\" title=\"Grammar induction\">Grammar induction</a><sup id=\"cite_ref-20\" class=\"reference\"><a href=\"#cite_note-20\">&#91;20&#93;</a></sup></dt>\n",
            "<dd>Generate a <a href=\"/wiki/Formal_grammar\" title=\"Formal grammar\">formal grammar</a> that describes a language's syntax.</dd>\n",
            "<dt><a href=\"/wiki/Sentence_breaking\" class=\"mw-redirect\" title\n",
            "==========\n"
          ],
          "name": "stdout"
        }
      ]
    },
    {
      "cell_type": "code",
      "metadata": {
        "id": "9S5Pr3w441CI",
        "colab": {
          "base_uri": "https://localhost:8080/"
        },
        "outputId": "70a7fb9d-e419-40ee-952d-e093fcc4d434"
      },
      "source": [
        "result = ai.generate_one()\n",
        "print(result)"
      ],
      "execution_count": null,
      "outputs": [
        {
          "output_type": "stream",
          "text": [
            "\">Natural language processing</a></li>\n",
            "<li><a href=\"/wiki/Computational_Meaning_Representation\" class=\"mw-redirect\" title=\"Computational Meaning Representation\">Computational Meaning Representation</a></li>\n",
            "<li><a href=\"/wiki/Computer-assisted_translation\" title=\"Computer-assisted translation\">Computer-assisted</a></li>\n",
            "<li><a href=\"/wiki/Controlled_natural_language\" title=\"Controlled natural language\">Controlled natural language</a></li>\n",
            "<li><a href=\"/wiki/Deep_learning\" title=\"Deep learning\">Deep learning</a></li>\n",
            "<li><a href=\"/wiki/Deep_linguistic_processing\" title=\"Deep linguistic processing\">Deep linguistic processing</a></li>\n",
            "<li><a href=\"/wiki/Distributional_semantics\" title=\"Distributional semantics\">Distributional semantics</a></li>\n",
            "<li><a href=\"/wiki/Foreign_language_reading_aid\" class=\"mw-redirect\" title=\"Foreign language reading aid\">Foreign language reading aid</a></li>\n",
            "<li><a href=\"/wiki\n"
          ],
          "name": "stdout"
        }
      ]
    },
    {
      "cell_type": "code",
      "metadata": {
        "colab": {
          "base_uri": "https://localhost:8080/"
        },
        "id": "hDymn_WxL9_J",
        "outputId": "cd8ceecd-58c2-4fc4-861c-c557048e102a"
      },
      "source": [
        "PROMPT = \"\"\"\n",
        "<div>\n",
        "\"\"\"\n",
        "result = ai.generate_one(prompt=PROMPT)\n",
        "print(result)"
      ],
      "execution_count": null,
      "outputs": [
        {
          "output_type": "stream",
          "text": [
            "\n",
            "<div>\n",
            "<ul><li><a href=\"/wiki/Computer-assisted_reviewing\" title=\"Computer-assisted reviewing\">Computer-assisted</a></li>\n",
            "<li><a href=\"/wiki/Controlled_natural_language\" title=\"Controlled natural language\">Controlled natural language</a></li>\n",
            "<li><a href=\"/wiki/Deep_learning\" title=\"Deep learning\">Deep learning</a></li>\n",
            "<li><a href=\"/wiki/Deep_linguistic_processing\" title=\"Deep linguistic processing\">Deep linguistic processing</a></li>\n",
            "<li><a href=\"/wiki/Distributional_semantics\" title=\"Distributional semantics\">Distributional semantics</a></li>\n",
            "<li><a href=\"/wiki/Foreign_language_reading_aid\" class=\"mw-redirect\" title=\"Foreign language reading aid\">Foreign language reading aid</a></li>\n",
            "<li><a href=\"/wiki/Foreign_language_writing_aid\" title=\"Foreign language writing aid\">Foreign language writing aid</a></li>\n",
            "<li><a href=\"/wiki/Information_extraction\" title=\"Information extraction\">Information extraction</a></li\n"
          ],
          "name": "stdout"
        }
      ]
    },
    {
      "cell_type": "code",
      "metadata": {
        "colab": {
          "base_uri": "https://localhost:8080/"
        },
        "id": "WpaWBhXtMmZl",
        "outputId": "1518315c-76da-444c-bfac-59026f8a678c"
      },
      "source": [
        "PROMPT = \"\"\"\n",
        "<div class=\"mbox-small\"><li><a href=\"/wiki/Foreign_language_writing_aid\" title=\"Foreign language writing aid\">Foreign language writing aid</a></li></div> \n",
        "\"\"\"\n",
        "result = ai.generate_one(prompt=PROMPT)\n",
        "print(result)"
      ],
      "execution_count": null,
      "outputs": [
        {
          "output_type": "stream",
          "text": [
            "\n",
            "<div class=\"mbox-small\"><li><a href=\"/wiki/Foreign_language_writing_aid\" title=\"Foreign language writing aid\">Foreign language writing aid</a></li></div> \n",
            "<ul><li><a href=\"/wiki/Foreign_language_writing_aid\" title=\"Foreign language writing aid\">Foreign language writing aid</a></li>\n",
            "<li><a href=\"/wiki/Information_extraction\" title=\"Information extraction\">Information extraction</a></li>\n",
            "<li><a href=\"/wiki/Information_retrieval\" title=\"Information retrieval\">Information retrieval</a></li>\n",
            "<li><a href=\"/wiki/Language_and_Communication_Technologies\" title=\"Language and Communication Technologies\">Language and Communication Technologies</a></li>\n",
            "<li><a href=\"/wiki/Language_technology\" title=\"Language technology\">Language technology</a></li>\n",
            "<li><a href=\"/wiki/Latent_semantic_indexing\" class=\"mw-redirect\" title=\"Latent semantic indexing\">Latent semantic indexing</a></li>\n",
            "<li><a href=\"/wiki/Native-language_identification\" title=\"Native-\n"
          ],
          "name": "stdout"
        }
      ]
    },
    {
      "cell_type": "code",
      "metadata": {
        "colab": {
          "base_uri": "https://localhost:8080/"
        },
        "id": "K_7jStp5NET_",
        "outputId": "6ec8543c-c203-4b3b-b02e-c0a62d9fec69"
      },
      "source": [
        "PROMPT = \"\"\"\n",
        "<!DOCTYPE html>\n",
        "<html class=\"client-nojs\" lang=\"en\" dir=\"ltr\">\n",
        "<head>\n",
        "\"\"\"\n",
        "result = ai.generate_one(prompt=PROMPT)\n",
        "print(result)"
      ],
      "execution_count": null,
      "outputs": [
        {
          "output_type": "stream",
          "text": [
            "\n",
            "<!DOCTYPE html>\n",
            "<html class=\"client-nojs\" lang=\"en\" dir=\"ltr\">\n",
            "<head>\n",
            "<meta name=\"Special:BookSources</head>\n",
            "<title class=\"Special:BookSources\"><abbr title=\"Date and location\">Special pages</abbr></a></li>\n",
            "<li><abbr title=\"CiteSeerX_(identifier)\" class=\"mw-redirect\" title=\"CiteSeerX (identifier)\">CiteSeerX</abbr></a></li>\n",
            "<li><a href=\"/wiki/Special:BookSources/978-1848218482\" title=\"Special:BookSources/978-1848218482\">978-1848218482</a></li>\n",
            "<li><a href=\"/wiki/Wikipedia:BookSources/978-1848219212\" title=\"Wikipedia:BookSources/978-1848219212\">978-1848219212</a></li>\n",
            "<li><a href=\"/wiki/Wikipedia:Text_and_speech\" title=\"Wikipedia:Text and speech\">Text and speech</a></li>\n",
            "<li><a href=\"/wiki/\n"
          ],
          "name": "stdout"
        }
      ]
    },
    {
      "cell_type": "code",
      "metadata": {
        "colab": {
          "base_uri": "https://localhost:8080/"
        },
        "id": "E_u1HZ_WNVI5",
        "outputId": "18b7a135-fc5b-4888-fa3f-6fc40cfd56f5"
      },
      "source": [
        "\n",
        "PROMPT = \"\"\"\n",
        "<link rel=\"dns-prefetch\" href=\"//meta.wikimedia.org\" />\n",
        "\"\"\"\n",
        "result = ai.generate_one(prompt=PROMPT)\n",
        "print(result)"
      ],
      "execution_count": null,
      "outputs": [
        {
          "output_type": "stream",
          "text": [
            "\n",
            "<link rel=\"dns-prefetch\" href=\"//meta.wikimedia.org\" />\n",
            "</head>\n",
            "<body class=\"mediawiki ltr sitedir-ltr mw-hide-empty-elt ns-0 ns-subject mw-editable page-Natural_language_processing rootpage-Natural_language_processing skin-vector action-view skin-vector-legacy\"><div id=\"mw-page-base\" class=\"noprint\"></div>\n",
            "<div id=\"mw-head-base\" class=\"noprint\"></div>\n",
            "<div id=\"content\" class=\"mw-body-content\"><!-- CentralNotice --></div>\n",
            "<div id=\"siteNotice\" class=\"mw-body-content\"><!-- CentralNotice --></div>\n",
            "<div class=\"mw-indicators mw-body-content\">\n",
            "<h1 id=\"Cognition_and_NLP</h1>\n",
            "<span>Cognition and NLP</span>\n",
            "<div class=\"mw-indicators mw-body-content\">\n",
            "<label class=\"hatnote navigation-indicators\" for=\"Cognition\n"
          ],
          "name": "stdout"
        }
      ]
    },
    {
      "cell_type": "code",
      "metadata": {
        "colab": {
          "base_uri": "https://localhost:8080/"
        },
        "id": "Dz3oSYpuNmK_",
        "outputId": "e994ed0e-3442-4738-ac95-fc9d334ff9ab"
      },
      "source": [
        "\n",
        "PROMPT = \"\"\"\n",
        "<body\n",
        "\"\"\"\n",
        "result = ai.generate_one(prompt=PROMPT)\n",
        "print(result)"
      ],
      "execution_count": null,
      "outputs": [
        {
          "output_type": "stream",
          "text": [
            "\n",
            "<body\n",
            "<style data-mw-deduplicate=\"TemplateStyles:r994654864\">.mw-parser-output.refbegin{font-size:90%;margin-bottom:0.5em}.mw-parser-output.refbegin-hanging-indents>ul{list-style-type:none;margin-left:0}.mw-parser-output.refbegin-hanging-indents>ul>li,.mw-parser-output.refbegin-hanging-indents>dl>dd{margin-left:0;padding-left:3.2em;text-indent:-3.2em;list-style:none}.mw-parser-output.refbegin-100{font-size:100%}.mw-parser-output.refbegin-columns{margin-top:0.5em}.mw-parser-output.refbegin-columns dl,.mw-parser-output.refbegin-columns ol,.mw-parser-output.refbegin-columns ul{margin-top:0}.mw-parser-output.refbegin-column\n"
          ],
          "name": "stdout"
        }
      ]
    },
    {
      "cell_type": "code",
      "metadata": {
        "id": "sn79QTLUNvxc"
      },
      "source": [],
      "execution_count": null,
      "outputs": []
    }
  ]
}